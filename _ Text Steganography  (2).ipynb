{
 "cells": [
  {
   "cell_type": "markdown",
   "id": "edf91015-ead4-4e40-a4bb-491c27131b59",
   "metadata": {},
   "source": [
    "### IMPORTING LIBRARIES"
   ]
  },
  {
   "cell_type": "code",
   "execution_count": 67,
   "id": "a440d690-5141-43f8-ae80-88fb3911e13a",
   "metadata": {},
   "outputs": [],
   "source": [
    "import sys\n",
    "import hashlib\n",
    "import base64\n",
    "from Cryptodome.Cipher import AES\n",
    "from Cryptodome.Util.Padding import pad, unpad"
   ]
  },
  {
   "cell_type": "markdown",
   "id": "c5a991cf-7d8f-49d6-9400-a7299b72b074",
   "metadata": {},
   "source": [
    "### Zero-Width Characters for Text Steganography"
   ]
  },
  {
   "cell_type": "code",
   "execution_count": 68,
   "id": "f6c3d8cc-c0a6-447c-a005-45f3e1b1cff0",
   "metadata": {},
   "outputs": [],
   "source": [
    "ZERO_WIDTH_SPACE = \"\\u200B\"  \n",
    "ZERO_WIDTH_NON_JOINER = \"\\u200C\"\n",
    "ZERO_WIDTH_JOINER = \"\\u200D\" \n"
   ]
  },
  {
   "cell_type": "code",
   "execution_count": 69,
   "id": "b295459e-565f-45c2-a5cb-00f996814bb9",
   "metadata": {},
   "outputs": [],
   "source": [
    "AUTHORIZED_USERS = {\"user\" + str(i) for i in range(1, 21)}\n",
    "ALL_USERS = {\"user\" + str(i) for i in range(1, 101)}"
   ]
  },
  {
   "cell_type": "markdown",
   "id": "5795925e-ac19-404d-be89-2e291375ca42",
   "metadata": {},
   "source": [
    "### Secure Password Hashing  function with SHA-256"
   ]
  },
  {
   "cell_type": "code",
   "execution_count": 70,
   "id": "5e3ff380-4dc2-4f48-8002-9b0f14072a50",
   "metadata": {},
   "outputs": [],
   "source": [
    "\n",
    "def hash_password(password):\n",
    "    return hashlib.sha256(password.encode()).hexdigest()\n"
   ]
  },
  {
   "cell_type": "markdown",
   "id": "217ca419-9c03-45c6-98f2-ab5ebf5026eb",
   "metadata": {},
   "source": [
    "### AES Encryption"
   ]
  },
  {
   "cell_type": "code",
   "execution_count": 71,
   "id": "87f7057d-29f2-495d-856b-ad3669ca4b39",
   "metadata": {},
   "outputs": [],
   "source": [
    "def encrypt_message(secret_message, password):\n",
    "    key = hashlib.sha256(password.encode()).digest()\n",
    "    cipher = AES.new(key, AES.MODE_CBC)\n",
    "    encrypted_bytes = cipher.encrypt(pad(secret_message.encode(), AES.block_size))\n",
    "    return base64.b64encode(cipher.iv + encrypted_bytes).decode()\n"
   ]
  },
  {
   "cell_type": "markdown",
   "id": "3eb4b35a-599c-4d4c-bf4d-d486576c2438",
   "metadata": {},
   "source": [
    "### Observations:  \n",
    "The `encrypt_message` function uses AES-CBC encryption with a SHA-256-derived key and PKCS7 padding. A randomly generated IV is prepended to the encrypted message and base64-encoded for secure transmission. The notebook includes zero-width Unicode characters, suggesting text-based steganography for hiding encrypted messages. Additionally, user access control mechanisms (`AUTHORIZED_USERS` and `ALL_USERS`) indicate restricted access.  \n",
    "\n",
    "### Conclusion:  \n",
    "The encryption method is secure, but proper IV extraction is necessary for decryption. The use of zero-width characters implies a steganographic approach to conceal encrypted text. Combining AES encryption with text steganography enhances data security and secrecy. The presence of access control suggests that only authorized users can decrypt hidden messages."
   ]
  },
  {
   "cell_type": "markdown",
   "id": "8d94cdbe-d503-4e6b-89cf-46ce5e4315af",
   "metadata": {},
   "source": [
    "### AES Decryption"
   ]
  },
  {
   "cell_type": "code",
   "execution_count": 72,
   "id": "4215fe0b-9859-425b-b488-da0953ee32ce",
   "metadata": {},
   "outputs": [],
   "source": [
    "def decrypt_message(encrypted_message, password):\n",
    "    try:\n",
    "        key = hashlib.sha256(password.encode()).digest()\n",
    "        encrypted_data = base64.b64decode(encrypted_message)\n",
    "        iv = encrypted_data[:16]\n",
    "        cipher = AES.new(key, AES.MODE_CBC, iv)\n",
    "        decrypted_bytes = unpad(cipher.decrypt(encrypted_data[16:]), AES.block_size)\n",
    "        return decrypted_bytes.decode()\n",
    "    except Exception:\n",
    "        return None"
   ]
  },
  {
   "cell_type": "markdown",
   "id": "d384ff33-e3a4-44df-8a99-c03d6c38ce8b",
   "metadata": {},
   "source": [
    "### Observations:  \n",
    "The `decrypt_message` function reverses the AES-CBC encryption process using a key derived from the SHA-256 hash of the provided password. It extracts the IV from the first 16 bytes of the base64-decoded encrypted message. The function then decrypts the remaining ciphertext and removes padding using `unpad`. Additionally, the `try-except` block ensures that decryption errors return `None`, preventing crashes.  \n",
    "\n",
    "### Conclusion:  \n",
    "The function securely decrypts messages if the correct password is provided, ensuring confidentiality. Proper IV extraction allows successful decryption of messages encrypted using `encrypt_message`. The use of padding removal ensures that the original plaintext is accurately reconstructed. The error handling mechanism prevents failures due to incorrect passwords or corrupted data."
   ]
  },
  {
   "cell_type": "markdown",
   "id": "028aa689-dd9f-40d6-889e-7b96924f72db",
   "metadata": {},
   "source": [
    "###  Encode message using zero-width characters"
   ]
  },
  {
   "cell_type": "code",
   "execution_count": 90,
   "id": "a2c0827a-c071-4386-a13a-bb72458a056c",
   "metadata": {},
   "outputs": [],
   "source": [
    "def encode_message(carrier_text, secret_message, password):\n",
    "    hashed_password = hash_password(password)\n",
    "    encrypted_message = encrypt_message(secret_message, password)\n",
    "    binary_secret = ''.join(format(ord(char), '08b') for char in encrypted_message)\n",
    "    encoded = ''.join(ZERO_WIDTH_SPACE if bit == '0' else ZERO_WIDTH_NON_JOINER for bit in binary_secret)\n",
    "    return carrier_text + ZERO_WIDTH_JOINER + hashed_password + encoded"
   ]
  },
  {
   "cell_type": "markdown",
   "id": "79f89b44-3857-4b63-bcd6-55a7aab1e6db",
   "metadata": {},
   "source": [
    "### Observations:  \n",
    "The `encode_message` function embeds an encrypted secret message within a carrier text using zero-width characters for steganography. It first hashes the password using `hash_password` and encrypts the secret message with `encrypt_message`. The encrypted message is then converted to binary, where `0s` are replaced with zero-width spaces and `1s` with zero-width non-joiners. Finally, the carrier text is appended with a zero-width joiner, the hashed password, and the encoded binary data.  \n",
    "\n",
    "### Conclusion:  \n",
    "This function effectively combines encryption with text-based steganography to conceal secret messages within normal-looking text. Using zero-width characters makes the hidden message visually undetectable while ensuring security through AES encryption. The inclusion of a hashed password helps in authentication, allowing only users with the correct password to retrieve the message. This method enhances both confidentiality and stealth in secure communication."
   ]
  },
  {
   "cell_type": "markdown",
   "id": "d641abf7-cb9b-4463-964d-8d21a3c4c5dc",
   "metadata": {},
   "source": [
    "### Decode message for authorized users"
   ]
  },
  {
   "cell_type": "code",
   "execution_count": 91,
   "id": "be4936e6-f31e-4627-980a-b4c2debcbd8f",
   "metadata": {},
   "outputs": [],
   "source": [
    "def decode_message(stego_text):\n",
    "    user_id = input(\"Enter your User ID: \")\n",
    "    if user_id not in ALL_USERS:\n",
    "        return \"Invalid User ID.\"\n",
    "    if user_id not in AUTHORIZED_USERS:\n",
    "        return stego_text.split(ZERO_WIDTH_JOINER)[0]\n",
    "    \n",
    "    hashed_password_start = stego_text.find(ZERO_WIDTH_JOINER)\n",
    "    if hashed_password_start == -1:\n",
    "        return stego_text\n",
    "    \n",
    "    hashed_password_section = stego_text[hashed_password_start+1:]\n",
    "    user_password = input(\"Enter password to access hidden message: \")\n",
    "    hashed_password = hash_password(user_password)\n",
    "    \n",
    "    if hashed_password not in hashed_password_section:\n",
    "        return stego_text.split(ZERO_WIDTH_JOINER)[0]\n",
    "    \n",
    "    encoded_part = hashed_password_section.split(hashed_password, 1)[1]\n",
    "    binary_secret = ''.join('0' if char == ZERO_WIDTH_SPACE else '1' for char in encoded_part)\n",
    "    encrypted_message = ''.join(chr(int(binary_secret[i:i+8], 2)) for i in range(0, len(binary_secret), 8))\n",
    "    \n",
    "    decrypted_message = decrypt_message(encrypted_message, user_password)\n",
    "    if decrypted_message:\n",
    "        return f\"Correct Password! Hidden Message: {decrypted_message}\"\n",
    "    else:\n",
    "        return \"Incorrect password or corrupted data.\""
   ]
  },
  {
   "cell_type": "markdown",
   "id": "b79fd58c-c0bc-468a-8be9-3e7e87a469b5",
   "metadata": {},
   "source": [
    "### Observations:  \n",
    "The `decode_message` function extracts and decrypts a hidden message from a steganographic text. It first verifies the user’s ID against `ALL_USERS` and `AUTHORIZED_USERS`. If unauthorized, it returns the original carrier text. It then extracts the hashed password from the text and checks if the user-provided password matches. If valid, it decodes the zero-width character sequence back into binary, reconstructs the encrypted message, and attempts decryption using `decrypt_message`. Error handling ensures that incorrect passwords or corrupted data do not cause crashes.  \n",
    "\n",
    "### Conclusion:  \n",
    "This function securely retrieves hidden messages while enforcing access control. The dual-layer security—user authentication and password verification—prevents unauthorized access. The use of zero-width characters ensures the hidden message remains invisible in plain sight. By handling incorrect passwords gracefully, it maintains robustness and prevents information leakage to unauthorized users."
   ]
  },
  {
   "cell_type": "code",
   "execution_count": 92,
   "id": "065e4948-2496-4e7c-a9fd-53d5fed57c73",
   "metadata": {},
   "outputs": [],
   "source": [
    "carrier_text = (\"In the heart of a bustling city, where skyscrapers kissed the clouds and the streets buzzed with life, \"\n",
    "           \"a story was unfolding. The sun cast long shadows as people hurried to their destinations, unaware of the \"\n",
    "           \"hidden messages that surrounded them. Every building, every street sign, and every whisper of the wind carried \"\n",
    "           \"secrets waiting to be uncovered. It was a world of coded words, of secrets hidden in plain sight, where only the \"\n",
    "           \"keenest minds could decipher the truth. Amidst this, a special message lay embedded within, waiting for the \"\n",
    "           \"right eyes to see it.\")\n",
    "secret_message = \"Confidential Data: 12345XYZ\"\n",
    "password = \"SecureKey\""
   ]
  },
  {
   "cell_type": "code",
   "execution_count": 93,
   "id": "64a4fe03-a708-4c61-a84c-d5654b34dc87",
   "metadata": {},
   "outputs": [
    {
     "name": "stdout",
     "output_type": "stream",
     "text": [
      "Stego Text (Visible Part): In the heart of a bustling city, where skyscrapers kissed the clouds and the streets buzzed with life, a story was unfolding. The sun cast long shadows as people hurried to their destinations, unaware of the hidden messages that surrounded them. Every building, every street sign, and every whisper of the wind carried secrets waiting to be uncovered. It was a world of coded words, of secrets hidden in plain sight, where only the keenest minds could decipher the truth. Amidst this, a special message lay embedded within, waiting for the right eyes to see it.\n"
     ]
    }
   ],
   "source": [
    "stego_text = encode_message(carrier_text, secret_message, password)\n",
    "print(\"Stego Text (Visible Part):\", carrier_text)"
   ]
  },
  {
   "cell_type": "code",
   "execution_count": 96,
   "id": "5cce0c8a-78a9-47c6-a469-443eace60c21",
   "metadata": {},
   "outputs": [
    {
     "name": "stdin",
     "output_type": "stream",
     "text": [
      "Enter your User ID:  user2\n",
      "Enter password to access hidden message:  SecureKey\n"
     ]
    },
    {
     "name": "stdout",
     "output_type": "stream",
     "text": [
      "Correct Password! Hidden Message: Confidential Data: 12345XYZ\n"
     ]
    }
   ],
   "source": [
    "retrieved_message = decode_message(stego_text)\n",
    "print(retrieved_message)\n"
   ]
  },
  {
   "cell_type": "code",
   "execution_count": null,
   "id": "deec2941-1c24-49f4-b656-db4d93519b4c",
   "metadata": {},
   "outputs": [],
   "source": []
  }
 ],
 "metadata": {
  "kernelspec": {
   "display_name": "Python (tf_env)",
   "language": "python",
   "name": "tf_env"
  },
  "language_info": {
   "codemirror_mode": {
    "name": "ipython",
    "version": 3
   },
   "file_extension": ".py",
   "mimetype": "text/x-python",
   "name": "python",
   "nbconvert_exporter": "python",
   "pygments_lexer": "ipython3",
   "version": "3.10.8"
  }
 },
 "nbformat": 4,
 "nbformat_minor": 5
}
